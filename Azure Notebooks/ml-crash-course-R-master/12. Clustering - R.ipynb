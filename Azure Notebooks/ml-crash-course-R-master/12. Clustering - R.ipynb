{
  "cells": [
    {
      "metadata": {},
      "cell_type": "markdown",
      "source": "Clustering\n===\n\nWhen a data set doesn’t have labels, we can use unsupervised learning to find structure in the data, which in turn allows us to discover patterns or groups.\n\nCluster analysis is a method of finding groups, known as **clusters**, in datasets. As the datasets are unlabelled, cluster analysis aims to group similar samples based on their input features.\n\n**K-means clustering** separates samples into `k` clusters, and partitions samples by the average (mean) of the clusters. So if we state that `k = 5`, k-means clustering will divide the samples into 5 clusters based on the means of the clusters.\n\nStep 1\n---\n\nIn this exercise, we will use k-means clustering to analyse a few different datasets.\n\nFirst, we need to load the required packages for this session.\n\n**Run the code below**"
    },
    {
      "metadata": {
        "trusted": true
      },
      "cell_type": "code",
      "source": "# Run this box to load the required packages\n\n# Load the required libraries for this session\nsuppressMessages(install.packages(\"tidyverse\"))\nsuppressMessages(library(\"tidyverse\"))\nsuppressMessages(install.packages(\"clusterGeneration\"))\nsuppressMessages(library(\"clusterGeneration\"))\nsuppressMessages(install.packages(\"kernlab\"))\nsuppressMessages(library(\"kernlab\"))\nsuppressMessages(install.packages(\"mlbench\"))\nsuppressMessages(library(\"mlbench\"))",
      "execution_count": null,
      "outputs": []
    },
    {
      "metadata": {},
      "cell_type": "markdown",
      "source": "Now let's create a dataset with a known number of clusters to demonstrate how k-means clustering would handle the data.\n\nBelow, we will change the `numClust` argument within the `genRandomClust` function to generate a random data set with 3 clusters.\n\n#### Replace `<clusterNumber>` with `3` and run the code."
    },
    {
      "metadata": {
        "trusted": true
      },
      "cell_type": "code",
      "source": "# Set the seed to be able to reproduce the same random cluster data\nset.seed(365)\n\n# Generate random data set with 3 clusters\n###\n# REPLACE <clusterNumber> WITH 3\n###\nclust_three <- genRandomClust(numClust = <clusterNumber>, sepVal = 0.1, numReplicate = 1, clustszind = 1, clustSizeEq = 175, \n                              outputDatFlag = FALSE, outputLogFlag = FALSE, outputEmpirical = FALSE, \n                              outputInfo = FALSE)\n###\n\n# Save x and y values to a data frame\nclust_three <- as.data.frame(clust_three$datList$test_1) %>% \nrename(., x = x1, y = x2)\n\n# Create scatter plot\nggplot(clust_three, aes(x, y)) +\ngeom_point(alpha = 0.75) +\nggtitle(\"Data set n = 3 clusters\") +\ntheme(plot.title = element_text(hjust = 0.5))",
      "execution_count": null,
      "outputs": []
    },
    {
      "metadata": {},
      "cell_type": "markdown",
      "source": "Alright, we just made a dataset with 3 clusters and graphed it.\n\nLet's see how k-means performs on this dataset, already knowing we have 3 clusters.\n\n### In the cell below replace:\n#### 1. `<clusterVariableName>` with `clust_three`\n#### 2. `<numberOfCenters>` with `3`\n#### then __run the code__."
    },
    {
      "metadata": {
        "trusted": true
      },
      "cell_type": "code",
      "source": "###\n# REPLACE <clusterVariableName> WITH clust_three AND <numberOfCenters> WITH 3\n###\nclust3_kmeans <- kmeans(x = <clusterVariableName>, centers = <numberOfCenters>)\n###\n\nclust3 <- as.data.frame(clust3_kmeans$cluster) %>% \nrename(., Cluster_kmeans = `clust3_kmeans$cluster`) %>% \nmutate(., Cluster_kmeans = as.factor(Cluster_kmeans)) %>%\nbind_cols(., clust_three)\n\n# Check output\n# str(clust3)\nhead(clust3)\n\n# Plot the results\nclust3 %>% \nggplot(aes(x, y, colour = Cluster_kmeans)) +\ngeom_point(alpha = 0.75) +\nlabs(title = \"Data set n = 3 clusters: k-means clustering analysis\", colour = \"Cluster\\ngroup\") +\ntheme(plot.title = element_text(hjust = 0.5))",
      "execution_count": null,
      "outputs": []
    },
    {
      "metadata": {},
      "cell_type": "markdown",
      "source": "K-means clustering performs rather well, by the looks of it!\n\nBut we knew that our data set had three clusters, sometimes it might not be so clear..."
    },
    {
      "metadata": {},
      "cell_type": "markdown",
      "source": "## Step 2\n\nLet's generate another dataset in which it may be a little less obvious how many clusters it contains.\n\nBelow we will generate a random data set with `4` clusters and change the `sepVal` argument to  reduce the separation between the clusters.\n\n### In the cell below replace:\n#### 1. `<numberOfClusters>` with `4`\n#### 2. `<clusterSeperationValue>` with `-0.01`\n#### then __run the code__."
    },
    {
      "metadata": {
        "trusted": true
      },
      "cell_type": "code",
      "source": "# Set seed to reproduce this code\nset.seed(365)\n\n# Generate random data set with 4 clusters\n###\n# REPLACE <numberOfClusters> WITH 4 AND <clusterSeperationValue> WITH -0.01\n###\nfour_clust <- genRandomClust(numClust = <numberOfClusters>, sepVal = <clusterSeperationValue>, numReplicate = 1, clustszind = 1, clustSizeEq = 175,\n                             outputDatFlag = FALSE, outputLogFlag = FALSE, outputEmpirical = FALSE, \n                             outputInfo = FALSE)\n###\n\n# Obtain cluster data x and y values\nclust4_data <- as.data.frame(four_clust$datList$test_1) %>% \nrename(., x = x1, y = x2)\n\n# Create scatter plot\nggplot(clust4_data, aes(x, y)) +\ngeom_point(alpha = 0.75) +\nggtitle(\"Data set n = 4 clusters\") +\ntheme(plot.title = element_text(hjust = 0.5))",
      "execution_count": null,
      "outputs": []
    },
    {
      "metadata": {},
      "cell_type": "markdown",
      "source": "In instances where we do not know how many classes to expect, we can run k-means clustering multiple times with different *k* values to see how the data is partitioned. Let's try that now.\n\nThe following code block creates a custom function named `cluster_kvalue`. This function performs k-means clustering, saves the cluster membership, then creates a scatter plot of the data coloured by the cluster membership. The `cluster_kvalue` function contains two arguments:\n\n- `data_input` numeric matrix/data frame\n- `kvalue` number of clusters to partition into (k)\n\nYou do not need to edit the following code block. However, you will need to call this custom function later!\n\n**Run the code below to prepare the function for later use**"
    },
    {
      "metadata": {
        "trusted": true
      },
      "cell_type": "code",
      "source": "# Run this block to prepare the function for later\n\n# But don't edit it!\n\n# Create own function to run k-means clustering, save cluster membership, then plot results\ncluster_kvalue <- function(data_input, kvalue) {\n    clust_kmeans <- kmeans(x = data_input, centers = kvalue) #, algorithm = \"Hartigan-Wong\"\n    as.data.frame(clust_kmeans$cluster) %>% \n    rename(., Cluster_kmeans = `clust_kmeans$cluster`) %>% \n    mutate(., Cluster_kmeans = as.factor(Cluster_kmeans)) %>%\n    bind_cols(., data_input) %>% \n    ggplot(aes(x, y, colour = Cluster_kmeans)) +\n    geom_point(alpha = 0.75) +\n    ggtitle(paste(\"Cluster analysis using k-means clustering: k = \", kvalue)) +\n    theme(plot.title = element_text(hjust = 0.5)) +\n    labs(colour = \"Cluster\\ngroup\")\n}",
      "execution_count": null,
      "outputs": []
    },
    {
      "metadata": {},
      "cell_type": "markdown",
      "source": "Now let's run our custom function on `clust4_data`, changing the number of clusters (`kvalue`) each time. This will tell us how kmeans performs with a different set number of clusters.\n\n#### Below, replace the `<numberOfClusters>`'s as directed."
    },
    {
      "metadata": {
        "trusted": true
      },
      "cell_type": "code",
      "source": "# Run this box to test k = 2\ncluster_kvalue(clust4_data, 2)",
      "execution_count": null,
      "outputs": []
    },
    {
      "metadata": {
        "trusted": true
      },
      "cell_type": "code",
      "source": "###\n# REPLACE <numberOfClusters> WITH 3\n###\ncluster_kvalue(clust4_data, <numberOfClusters>)\n###",
      "execution_count": null,
      "outputs": []
    },
    {
      "metadata": {
        "trusted": true
      },
      "cell_type": "code",
      "source": "###\n# REPLACE <numberOfClusters> WITH 4\n###\ncluster_kvalue(clust4_data, <numberOfClusters>)\n###",
      "execution_count": null,
      "outputs": []
    },
    {
      "metadata": {
        "trusted": true
      },
      "cell_type": "code",
      "source": "###\n# REPLACE <numberOfClusters> WITH 5\n###\ncluster_kvalue(clust4_data, <numberOfClusters>)\n###",
      "execution_count": null,
      "outputs": []
    },
    {
      "metadata": {
        "trusted": true
      },
      "cell_type": "code",
      "source": "###\n# REPLACE <numberOfClusters> WITH 6\n###\ncluster_kvalue(clust4_data, <numberOfClusters>)\n###",
      "execution_count": null,
      "outputs": []
    },
    {
      "metadata": {},
      "cell_type": "markdown",
      "source": "Which value of *k* do you think best splits the data?"
    },
    {
      "metadata": {},
      "cell_type": "markdown",
      "source": "## Step 3\n\nK-means clustering performs well enough on clustered data like that, but let's try it out on a data set that is not so linear.\n\nLet's create a data set that contains two rings of data. \n\nWe need to change the arguments in the `ggplot` code to plot the data.\n\n### In the cell below replace:\n#### 1. `<dataset>` with `ring_data`\n#### 2. `<variableNames>` with `x, y`\n\n#### and then __run the code__."
    },
    {
      "metadata": {
        "trusted": true
      },
      "cell_type": "code",
      "source": "x <- matrix(rnorm(500), ncol = 2)\n# Formula for Euclidean norm\nring1_data <- x/sqrt(rowSums(x^2))\nring2_data <- ring1_data/2\n\nring1_data <- as.data.frame(ring1_data)\nring2_data <- as.data.frame(ring2_data)\n\n# Check structure\nstr(ring1_data)\nstr(ring2_data)\n\nring_data <- bind_rows(ring1_data, ring2_data) %>% \nrename(x = V1, y = V2)\nstr(ring_data)\n\n###\n# REPLACE <dataset> WITH ring_data AND <variableNames> WITH x, y\n###\nggplot(data = <dataset>, aes(<variableNames>)) +\n###\ngeom_point(alpha = 0.5) +\nggtitle(\"Two ring data set\") +\ntheme(plot.title = element_text(hjust = 0.5))",
      "execution_count": null,
      "outputs": []
    },
    {
      "metadata": {},
      "cell_type": "markdown",
      "source": "We can clearly distinguish two \"clusters\", that is, the two rings of datapoints.\n\nLet's see how k-means handles a dataset like this. We can use our previous custom function to perform k-means clustering on `ring_data` and plot the results.\n\n#### Replace the `<clusterFunctionParameters>` with `ring_data, 2` then run the code."
    },
    {
      "metadata": {
        "trusted": true
      },
      "cell_type": "code",
      "source": "###\n# REPLACE <clusterFunctionParameters> WITH ring_data, 2\n###\n(ring_kmeans <- cluster_kvalue(<clusterFunctionParameters>))\n###",
      "execution_count": null,
      "outputs": []
    },
    {
      "metadata": {},
      "cell_type": "markdown",
      "source": "K-means clustering clearly has difficulty solving this. As we are currently using it, there is no way for k-means clustering to place two means to label this data set correctly."
    },
    {
      "metadata": {},
      "cell_type": "markdown",
      "source": "Step 4\n---\n\nWe can try to run k-means clustering another way. Let's add another feature to our two ring data set: the distance of each point away from the centre.\n\nLet's see if k-means is able to classify the two data clusters with this new feature.\n\nWe will change the arguments in the `ggplot` call to plot the ring data in 2D. This will be coloured by the new feature, `z`.\n\n### In the cell below replace:\n#### 1. `<variablesToPlot>` with `x, y`\n#### 2. `<variableForColour>` with `z`\n\n#### and then __run the code__."
    },
    {
      "metadata": {
        "trusted": true
      },
      "cell_type": "code",
      "source": "# Calculate distance from centre for each data point\nring_data_z <- ring_data %>% \nmutate(z = 4 * sqrt(x^2 + y^2))\n\nhead(ring_data_z)\ntail(ring_data_z)\n\n# Plot in 2D first\nring_data_z %>%\n\n###\n# REPLACE <variablesToPlot> WITH x, y and <variableForColour> WITH z\n###\nggplot(aes(<variablesToPlot> , colour = <variableForColour> )) +\n###\ngeom_point(alpha = 0.75) +\nlabs(title = \"Two ring data coloured by distance from centre\") +\ntheme(plot.title = element_text(hjust = 0.5))",
      "execution_count": null,
      "outputs": []
    },
    {
      "metadata": {},
      "cell_type": "markdown",
      "source": "Now let's plot all three features `x, y, z` coloured by the feature `z` in 3D using the `plot3D` package.\n\n#### Run the code below."
    },
    {
      "metadata": {
        "trusted": true
      },
      "cell_type": "code",
      "source": "plot_ly(ring_data_z, x = ~x, y = ~y, z = ~z, color = ~z) %>% \nadd_markers(opacity = 0.25)",
      "execution_count": null,
      "outputs": []
    },
    {
      "metadata": {},
      "cell_type": "markdown",
      "source": "How does k-means clustering deal with our ring dataset now that it has 3 features, and 2 clusters?\n\n### In the cell below replace:\n#### 1. `<dataset>` with `ring_data_z`\n#### 2. `<numberOfClusers>` with `2\n\n#### and then __run the code__."
    },
    {
      "metadata": {
        "trusted": true
      },
      "cell_type": "code",
      "source": "###\n# REPLACE <dataset> WITH ring_data_z AND <numberOfClusers> WITH 2\n###\ncluster_kvalue(<dataset>, <numberOfClusers>)\n###",
      "execution_count": null,
      "outputs": []
    },
    {
      "metadata": {},
      "cell_type": "markdown",
      "source": "Looks good! When we add a third feature `z` to our two ring data set, k-means clustering can better discern the cluster membership.\n\nStep 5\n---\n\nSome data cannot be manipulated like that. Let's have a look at a different type of data distribution, spirals.\n\nWe will create a data set in the shape of spirals using the function `mlbench.spirals` from the package `mlbench`.\n\n#### Replace `<spiralFunction>` with `mlbench.spirals` and run the code."
    },
    {
      "metadata": {
        "trusted": true
      },
      "cell_type": "code",
      "source": "# Set the seed to reproduce the random data set\nset.seed(123)\n\n###\n# REPLACE <spiralFunction> WITH mlbench.spirals\n###\nspiral_data <- <spiralFunction>(n = 500, cycles = 1, sd = 0.025)\n###\n\n# Save `spiral_data` to a data frame to allow plotting\nspiral_data <- data.frame(x = spiral_data$x[, 1], y = spiral_data$x[, 2], classes = spiral_data$classes)\n\n# Create scatter plot of the data\nspiral_data %>% \nggplot(aes(x, y)) +\ngeom_point(alpha = 0.75) +\nlabs(title = \"Spiral data set\", colour = \"Spiral\\nnumber\") +\ntheme(plot.title = element_text(hjust = 0.5))",
      "execution_count": null,
      "outputs": []
    },
    {
      "metadata": {},
      "cell_type": "markdown",
      "source": "Let's try running k-means clustering on `spiral_data` using our custom function.\n\n**In the code below, add the appropriate arguments to `cluster_kvalue` and press Run.**"
    },
    {
      "metadata": {
        "trusted": true
      },
      "cell_type": "code",
      "source": "###\n# REPLACE <dataset> WITH spiral_data AND <numberOfClusters> WITH 2\n###\ncluster_kvalue(<dataset>, <numberOfClusters>)\n###",
      "execution_count": null,
      "outputs": []
    },
    {
      "metadata": {},
      "cell_type": "markdown",
      "source": "Again, k-means clustering is facing a similar issue as with the circle data. But k-means clustering is just one method for clustering; other clustering methods may be more suitable to partition spiral data appropriately.\n\nStep 6\n---\n\n**Spectral clustering** is a clustering method that aims to cluster data that is in some way connected, so that samples in the same group are similar, and samples in different groups are dissimilar to each other.\n\nWe will run spectral analysis using the `specc` function. We will set the number of centers to 2, since we expect two groups where the samples in each group belong to a different spiral. Our dataset is the `spiral_data` we have been using previously.\n\n#### Replace `<spectralClusteringFunction>` with `specc` and run the code."
    },
    {
      "metadata": {
        "trusted": true
      },
      "cell_type": "code",
      "source": "###\n# REPLACE <spectralClusteringFunction> WITH specc\n###\nspiral_data_specc <- ?(as.matrix(select(spiral_data, -classes)), centers = 2)\n###\nspiral_data %>% \nmutate(Specc = spiral_data_specc@.Data) %>%\nggplot(aes(x, y, colour = as.factor(Specc))) +\ngeom_point(alpha = 0.75) +\nlabs(title = \"Spectral clustering of spiral data\", colour = \"Spectral\\ncluster\") +\ntheme(plot.title = element_text(hjust = 0.5))",
      "execution_count": null,
      "outputs": []
    },
    {
      "metadata": {},
      "cell_type": "markdown",
      "source": "Excellent! Spectral clustering works for the spiral data.\n\nLet's see how spectral clustering performs on our previous data set, the two ring data, based on just two features, x and y co-ordinates.\n\n### In the cell below replace:\n#### 1. `<dataset>` with `ring_data`\n#### 2. `<numberOfCenters>` with `2`\n#### then __run the code__."
    },
    {
      "metadata": {
        "trusted": true
      },
      "cell_type": "code",
      "source": "# Use spectral clustering algorithm on ring_data\nhead(ring_data)\nclass(ring_data)\n\n###\n# REPLACE <dataset> WITH ring_data and <numberOfCenters> WITH 2\n###\nring_data_specc <- specc(as.matrix(<dataset>), centers = <numberOfCenters>)\n###\n\nring_data %>% \nmutate(Specc = ring_data_specc@.Data) %>%\nggplot(aes(x, y, colour = as.factor(Specc))) +\ngeom_point(alpha = 0.75) +\nlabs(title = \"Spectral clustering of two ring data\", colour = \"Spectral\\ncluster\") +\ntheme(plot.title = element_text(hjust = 0.5))",
      "execution_count": null,
      "outputs": []
    },
    {
      "metadata": {},
      "cell_type": "markdown",
      "source": "Does spectral clustering classify the two ring data into the correct clusters?\n\n## Conclusion\n\nWe have learnt two important clustering methods, *k-means clustering* and *spectral clustering*, and used them on a variety of datasets. Remember, one clustering method might be more appropriate to use on a data set than another, especially straight out of the box; some additions/transformations to the data may allow the clustering method to be used."
    }
  ],
  "metadata": {
    "kernelspec": {
      "name": "r",
      "display_name": "R",
      "language": "R"
    },
    "language_info": {
      "mimetype": "text/x-r-source",
      "name": "R",
      "pygments_lexer": "r",
      "version": "3.4.1",
      "file_extension": ".r",
      "codemirror_mode": "r"
    }
  },
  "nbformat": 4,
  "nbformat_minor": 2
}