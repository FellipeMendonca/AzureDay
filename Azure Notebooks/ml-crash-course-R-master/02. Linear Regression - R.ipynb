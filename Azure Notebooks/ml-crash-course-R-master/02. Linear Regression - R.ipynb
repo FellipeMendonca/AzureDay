{
  "cells": [
    {
      "metadata": {
        "collapsed": true
      },
      "cell_type": "markdown",
      "source": "Exercise 2 - Simple Linear Regression\n===\n\nIn Exercise 1, we used R within Jupyter Notebooks to load information about chocolate bars, and stored it in a variable named `choc_data`. We checked the structure of `choc_data`, and explored some of the variables we have about chocolate bars using graphs.\n\nIn this exercise, we want to know how to make our chocolate-bar customers happier. To do this, we need to know whether chocolate bar _features_ can predict customer happiness. For example, customers may be happier when chocolate bars are bigger, or when they contain more cocoa.\n\nWe have data on customer happiness when eating chocolate bars with different features. Let's explore the relationship between customer happiness and the different features we have available.\n\nStep 1\n---\n\nFirst, we need to load the required libraries and data we will use in this exercise.\n\nBelow, we'll also use the functions `str`, `head`, and `tail` to inspect the structure of `choc_data`.\n\n** In the cell below replace: **\n\n** 1. `<structureFunction>` with `str` **\n\n** 2. `<headFunction>` with `head` **\n\n** 3. `<tailFunction>` with `tail` **\n\n** then __run the code__. **"
    },
    {
      "metadata": {
        "scrolled": true,
        "trusted": false
      },
      "cell_type": "code",
      "source": "# Load `ggplot2` library for graphing capabilities\nlibrary(ggplot2)\n\n# Load the chocolate data and save it to the variable name `choc_data`\nchoc_data <- read.delim(\"Data/chocolate data.txt\")\n\n###\n# REPLACE <structureFunction> <headFunction> <tailFunction> WITH str, head, and tail\n###\n\n# Check the structure of `choc_data` using `str(choc_data)`\n<structureFunction>(choc_data)\n\n# Inspect the start of the data by typing `head(choc_data)`\n<headFunction>(choc_data)\n\n# Inspect the end of the data by typing `tail(choc_data)`\n<tailFunction>(choc_data)",
      "execution_count": null,
      "outputs": []
    },
    {
      "metadata": {},
      "cell_type": "markdown",
      "source": "Our object `choc_data` contains 100 different chocolate bar observations for 5 variables: weight, cocoa percent, sugar percent, milk percent, and customer happiness.\n\nStep 2\n---\n\n\nWe want to know which chocolate bar features make customers happy.\n\nThe example below shows a linear regression between __cocoa percentage__ and __customer happiness__. \n\n** Run the code below to visualise this. You do not need to edit the code block below, just run it. **"
    },
    {
      "metadata": {
        "trusted": false
      },
      "cell_type": "code",
      "source": "# Run this box\n\n# DO NOT EDIT THIS CODE\n\n# Create our own function to generate a linear regression model then graph the result\nlin_reg_choc <- function(x, y, my_data){\n    \n    x_arg <- my_data[ , substitute(x)]\n    y_arg <- my_data[ , substitute(y)]\n    \n    # Perform linear regression using `lm` (stands for linear models) function\n    lm_choc <- lm(formula = y_arg ~ x_arg, data = my_data)\n    \n    # Create scatter plot of choc_data together with linear model\n    ggplot(data = my_data, aes_string(x = x, y = y)) +\n    geom_point() +\n    # Add line based on linear model\n    geom_abline(intercept = lm_choc$coefficients[1], \n                slope = lm_choc$coefficients[2],\n                colour = \"red\") +\n    # x-axis label remains constant\n    xlab(\"Customer happiness\") +\n    # y-axis label; use `gsub` function to remove underscore from \n    ylab(gsub(\"_\", \" \", y)) +\n    # graph title\n    ggtitle(paste(\"Customer satisfaction with chocolate bars given\", gsub(\"_\", \" \", y))) +\n    theme(plot.title = element_text(hjust = 0.5))\n\n}\n\n# This performs the linear regression steps listed above\nlin_reg_choc(x = \"customer_happiness\", y = \"cocoa_percent\", my_data = choc_data)",
      "execution_count": null,
      "outputs": []
    },
    {
      "metadata": {},
      "cell_type": "markdown",
      "source": "In the scatter plot above, each point represents an observation for a single chocolate bar.\n\nIt seems that __a higher percentage of cocoa increases customer happiness__. We think this because as we increase the amount of cocoa (y-axis), the amount of customer happiness (x-axis) increases, as shown by our linear model (red line). \n\nStep 3\n---\n\n** In the cell below: **\n\n** 1. replace the text `<addFeatureHere>` with __`weight`__ to see if heavier chocolate bars make people happier. **\n\n** 2. Also try the variables `sugar_percent` and  `milk_percent` to see if these improve customers' experiences. **\n\n** Remember to run each box when you are ready.**"
    },
    {
      "metadata": {
        "trusted": false
      },
      "cell_type": "code",
      "source": "###\n# CHANGE <addFeatureHere> TO \"weight\" IN THE LINE BELOW (INCLUDING THE QUOTATION MARKS)\n###\nlin_reg_choc(x = \"customer_happiness\", y = <addFeatureHere>, my_data = choc_data)\n###",
      "execution_count": null,
      "outputs": []
    },
    {
      "metadata": {
        "trusted": false
      },
      "cell_type": "code",
      "source": "###\n# CHANGE <addFeatureHere> TO \"sugar_percent\" IN THE LINE BELOW (INCLUDING THE QUOTATION MARKS)\n###\nlin_reg_choc(x = \"customer_happiness\", y = <addFeatureHere>, my_data = choc_data)\n###",
      "execution_count": null,
      "outputs": []
    },
    {
      "metadata": {
        "trusted": false
      },
      "cell_type": "code",
      "source": "###\n# CHANGE <addFeatureHere> TO \"milk_percent\" IN THE LINE BELOW (INCLUDING THE QUOTATION MARKS)\n###\nlin_reg_choc(x = \"customer_happiness\", y = <addFeatureHere>, my_data = choc_data)\n###",
      "execution_count": null,
      "outputs": []
    },
    {
      "metadata": {},
      "cell_type": "markdown",
      "source": "It looks like heavier chocolate bars make customers happier, whereas larger amounts of sugar or milk don't seem to make customers happier. \n\nWe can draw this conclusion based on the slope of our linear regression models (red line): \n\n* Our linear regression model for \"weight vs. customer happiness\" reveals that as chocolate bar weight  increases, customer happiness also increases;\n* Our linear regression models for \"sugar percent vs. customer happiness\" and \"milk percent vs. customer happiness\" reveal that as the percentage of sugar or milk increases, customer happiness decreases.\n\n> *N.B. It is possible to perform linear regression directly with `ggplot2` using the following function and arguments: `stat_smooth(method = \"lm\")`. However, we want to show you how to create linear models without the dependency of `ggplot2`.*\n\nConclusion\n---\nWell done! You have run a simple linear regression that revealed chocolate bars heavier in weight and with higher percentages of cocoa make customers happy.\n\nYou can now go back to the course and click __'Next Step'__ to move onto using linear regression with multiple features."
    }
  ],
  "metadata": {
    "kernelspec": {
      "name": "r",
      "display_name": "R",
      "language": "R"
    },
    "language_info": {
      "mimetype": "text/x-r-source",
      "name": "R",
      "pygments_lexer": "r",
      "version": "3.5.3",
      "file_extension": ".r",
      "codemirror_mode": "r"
    }
  },
  "nbformat": 4,
  "nbformat_minor": 2
}